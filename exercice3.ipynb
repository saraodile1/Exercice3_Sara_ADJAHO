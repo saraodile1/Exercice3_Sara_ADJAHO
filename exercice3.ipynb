{
 "cells": [
  {
   "cell_type": "code",
   "execution_count": null,
   "metadata": {},
   "outputs": [],
   "source": [
    "%pip install pandas\n",
    "%pip install faker"
   ]
  },
  {
   "cell_type": "code",
   "execution_count": 2,
   "metadata": {},
   "outputs": [],
   "source": [
    "import pandas as pd\n",
    "import sqlite3\n",
    "from faker import Faker"
   ]
  },
  {
   "cell_type": "code",
   "execution_count": null,
   "metadata": {},
   "outputs": [],
   "source": [
    "\n",
    "fake = Faker()\n",
    "db_name = 'database.db'\n",
    "\n",
    "conn = sqlite3.connect(db_name)\n",
    "cursor = conn.cursor()\n",
    "\n",
    "# Créer des table utilisateurs et vehicules\n",
    "cursor.execute('''\n",
    "CREATE TABLE IF NOT EXISTS utilisateurs (\n",
    "    id INTEGER PRIMARY KEY AUTOINCREMENT,\n",
    "    nom TEXT NOT NULL,\n",
    "    email TEXT NOT NULL UNIQUE,\n",
    "    adresse TEXT NOT NULL,\n",
    "    telephone TEXT NOT NULL\n",
    ")\n",
    "''')\n",
    "\n",
    "cursor.execute('''\n",
    "CREATE TABLE IF NOT EXISTS vehicules (\n",
    "    id INTEGER PRIMARY KEY AUTOINCREMENT,\n",
    "    marque TEXT NOT NULL,\n",
    "    modele TEXT NOT NULL,\n",
    "    annee INTEGER NOT NULL,\n",
    "    utilisateur_id INTEGER,\n",
    "    FOREIGN KEY (utilisateur_id) REFERENCES utilisateurs(id)\n",
    ")\n",
    "''')\n",
    "\n",
    "# Insérer des données aléatoires dans la table utilisateurs\n",
    "for _ in range(10):\n",
    "    nom = fake.name()\n",
    "    email = fake.email()\n",
    "    adresse = fake.address()\n",
    "    telephone = fake.phone_number()\n",
    "    cursor.execute('''\n",
    "    INSERT INTO utilisateurs (nom, email, adresse, telephone)\n",
    "    VALUES (?, ?, ?, ?)\n",
    "    ''', (nom, email, adresse, telephone))\n",
    "\n",
    "# Insérer des données aléatoires dans la table vehicules\n",
    "for _ in range(10):\n",
    "    marque = fake.company()\n",
    "    modele = fake.word()\n",
    "    annee = fake.year()\n",
    "    utilisateur_id = fake.random_int(min=1, max=10)\n",
    "    cursor.execute('''\n",
    "    INSERT INTO vehicules (marque, modele, annee, utilisateur_id)\n",
    "    VALUES (?, ?, ?, ?)\n",
    "    ''', (marque, modele, annee, utilisateur_id))\n",
    "\n",
    "conn.commit()\n",
    "\n",
    "print(f\"La base de données '{db_name}' a été créée avec succès et les données ont été insérées.\")\n",
    "\n",
    "conn.close()\n"
   ]
  },
  {
   "cell_type": "code",
   "execution_count": null,
   "metadata": {},
   "outputs": [],
   "source": [
    "# Se connecter à la base de données SQLite\n",
    "conn = sqlite3.connect('database.db')\n",
    "\n",
    "# Définir la requête SQL pour récupérer des données des tables 'utilisateurs''\n",
    "query_utilisateurs = \"SELECT * FROM utilisateurs;\"\n",
    "\n",
    "# Exécuter la requête SQL pour 'utilisateurs' et charger les résultats dans un DataFrame pandas\n",
    "df_utilisateurs = pd.read_sql_query(query_utilisateurs, conn)\n",
    "\n",
    "# Afficher les 5 premières lignes du DataFrame 'utilisateurs'\n",
    "print(\"Table Utilisateurs:\")\n",
    "print(df_utilisateurs.head())\n",
    "\n",
    "# Fermer la connexion à la base de données\n",
    "conn.close()\n"
   ]
  }
 ],
 "metadata": {
  "kernelspec": {
   "display_name": "env",
   "language": "python",
   "name": "python3"
  },
  "language_info": {
   "codemirror_mode": {
    "name": "ipython",
    "version": 3
   },
   "file_extension": ".py",
   "mimetype": "text/x-python",
   "name": "python",
   "nbconvert_exporter": "python",
   "pygments_lexer": "ipython3",
   "version": "3.12.1"
  }
 },
 "nbformat": 4,
 "nbformat_minor": 2
}
